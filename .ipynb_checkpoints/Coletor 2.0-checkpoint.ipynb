{
 "cells": [
  {
   "cell_type": "code",
   "execution_count": 1,
   "metadata": {},
   "outputs": [],
   "source": [
    "import re\n",
    "import os\n",
    "import math\n",
    "import pandas as pd\n",
    "import datetime"
   ]
  },
  {
   "cell_type": "code",
   "execution_count": 2,
   "metadata": {},
   "outputs": [],
   "source": [
    "path = 'Dataset/2018-1/'"
   ]
  },
  {
   "cell_type": "code",
   "execution_count": 3,
   "metadata": {},
   "outputs": [],
   "source": [
    "dictHorarios = {}"
   ]
  },
  {
   "cell_type": "code",
   "execution_count": 4,
   "metadata": {},
   "outputs": [],
   "source": [
    "#Coleta a data inicial e final de cada exercicio junto com o seu horario\n",
    "def coletaDatas(arquivo):\n",
    "    horarios = []\n",
    "    hBegin = -1\n",
    "    hEnd = -1\n",
    "    dataIni = -1\n",
    "    dataFim = -1\n",
    "    horaIni = -1\n",
    "    horaFim = -1\n",
    "    for linha in arquivo:\n",
    "        busca = re.findall(r'\\d{4}-\\d{1,2}-\\d{1,2} \\d+:\\d+:\\d+\\.\\d+',linha)\n",
    "        if(len(busca) > 0):\n",
    "            horaIni = busca[0]\n",
    "            horarios.append(horaIni)\n",
    "    if(len(horarios)>0):\n",
    "        hBegin = horarios[0]\n",
    "        hEnd = horarios[-1]\n",
    "    if(hBegin != -1):\n",
    "        busquinha = re.findall(r'\\d{4}-\\d{1,2}-\\d{1,2}',hBegin)\n",
    "        if(len(busquinha) > 0):\n",
    "            dataIni = busquinha[0]\n",
    "        busquinha = re.findall(r'\\d+:\\d+:\\d+\\.\\d+',hBegin)\n",
    "        if(len(busquinha) > 0):\n",
    "            horaIni = busquinha[0]\n",
    "    if(hEnd != -1):\n",
    "            busquinha = re.findall(r'\\d{4}-\\d{1,2}-\\d{1,2}',hEnd)\n",
    "            if(len(busquinha)>0):\n",
    "                    dataFim = busquinha[0]\n",
    "            busquinha = re.findall(r'\\d+:\\d+:\\d+\\.\\d+',hEnd)\n",
    "            if(len(busquinha) > 0):\n",
    "                horaFim = busquinha[0]\n",
    "    '''            \n",
    "    print(\"data raw:\")\n",
    "    print(hBegin,hEnd)\n",
    "    print(dataIni, dataFim)\n",
    "    print(\"Datas\")\n",
    "    print(horaIni,horaFim)\n",
    "    print(\"EOF\")\n",
    "    '''\n",
    "    return horarios, dataIni, dataFim, horaIni, horaFim"
   ]
  },
  {
   "cell_type": "code",
   "execution_count": 5,
   "metadata": {},
   "outputs": [],
   "source": [
    "#Calcula a quantidade de linhas de um arquivo de log\n",
    "def qntd_linhas_log(arquivo):\n",
    "    contador = 0\n",
    "    paste = 0\n",
    "    delete = 0\n",
    "    for linha in arquivo.split(\"\\n\"):\n",
    "        contador += 1\n",
    "        busca = re.search(r'paste',linha)\n",
    "        busca2 = re.search(r'delete',linha)\n",
    "        busca3 = re.search(r'Backspace',linha)\n",
    "        if(busca): paste += 1\n",
    "        if(busca2): delete += 1\n",
    "        if(busca3): delete += 1\n",
    "    \n",
    "    p1 = paste/contador\n",
    "    p2 = delete/contador\n",
    "    return contador,round(p1,2),round(p2,2)\n",
    "    "
   ]
  },
  {
   "cell_type": "code",
   "execution_count": 6,
   "metadata": {},
   "outputs": [],
   "source": [
    "#Calcula o tempo empenhado no exercicio\n",
    "def tempoEmpenhado(data_ini, data_fim, hora_ini, hora_fim):\n",
    "    s = '' + str(data_ini) + ' ' + str(hora_ini) \n",
    "    r = '' + str(data_fim) + ' ' +str(hora_fim)\n",
    "    date1 = int(datetime.datetime.strptime(s, '%Y-%m-%d %H:%M:%S.%f').strftime(\"%s\"))\n",
    "    date2 = int(datetime.datetime.strptime(r, '%Y-%m-%d %H:%M:%S.%f').strftime(\"%s\"))\n",
    "    difdate = date2 - date1\n",
    "    return difdate"
   ]
  },
  {
   "cell_type": "code",
   "execution_count": 7,
   "metadata": {},
   "outputs": [],
   "source": [
    "#Calcula a quantidade de dias em que o mesmo exercicio foi resolvido\n",
    "def n_acessosColetor(arquivo):\n",
    "    primeiroAcesso = 1\n",
    "    difdate = 0\n",
    "    for linha in arquivo:\n",
    "        busca = re.search(r'\\d{4}-\\d{1,2}-\\d{1,2}',linha)\n",
    "        if(busca):\n",
    "            if(primeiroAcesso):\n",
    "                dataIni = busca.group(0)\n",
    "                primeiroAcesso = 0\n",
    "            dataAtual = busca.group(0)\n",
    "            #date1 = int(datetime.datetime.strptime(dataIni, '%Y-%m-%d').strftime(\"%d\"))\n",
    "            #date2 = int(datetime.datetime.strptime(dataAtual, '%Y-%m-%d').strftime(\"%d\"))\n",
    "            #difdate = date2 - date1\n",
    "            start_date = datetime.datetime.strptime(dataIni, '%Y-%m-%d')\n",
    "            end_date = datetime.datetime.strptime(dataAtual, '%Y-%m-%d')\n",
    "            difdate = abs(end_date-start_date)\n",
    "            difdate = difdate.days\n",
    "            \n",
    "\n",
    "            \n",
    "    \n",
    "    return difdate"
   ]
  },
  {
   "cell_type": "code",
   "execution_count": 8,
   "metadata": {},
   "outputs": [],
   "source": [
    "#Ve a quantidade de submissoes em um exercicio\n",
    "def attemptsColetor(arquivo):\n",
    "    contador = 0\n",
    "    for linha in arquivo.split(\"\\n\"):\n",
    "        busca = re.search(r'SUBMITION',linha)\n",
    "        if(busca): contador += 1\n",
    "    return contador"
   ]
  },
  {
   "cell_type": "code",
   "execution_count": 9,
   "metadata": {},
   "outputs": [],
   "source": [
    "#Ve a quantidade de testes em um exercicio\n",
    "def testColetor(arquivo):\n",
    "    contador = 0\n",
    "    for linha in arquivo.split(\"\\n\"):\n",
    "        busca = re.search(r'TEST',linha)\n",
    "        if(busca): contador += 1\n",
    "    return contador"
   ]
  },
  {
   "cell_type": "code",
   "execution_count": 10,
   "metadata": {},
   "outputs": [],
   "source": [
    "#Ve a quantidade de exercicios em um laboratorio\n",
    "def exercicios_no_lab(arquivo):\n",
    "    qntd = 0\n",
    "    for linha in arquivo.split(\"\\n\"):\n",
    "        busca = re.search(r'number of exercises: \\d+',linha)\n",
    "        if(busca): \n",
    "            busca2 = re.search(r'\\d+',busca.group(0))\n",
    "            return busca2.group(0)"
   ]
  },
  {
   "cell_type": "code",
   "execution_count": 11,
   "metadata": {},
   "outputs": [],
   "source": [
    "#Ve a quantidade de exercicios respondidos corretamente em um laboratorio\n",
    "def exer_certos_no_lab(arquivo):\n",
    "    qntd = 0\n",
    "    for linha in arquivo.split(\"\\n\"):\n",
    "        busca = re.search(r'correct: \\d+',linha)\n",
    "        if(busca): \n",
    "            busca2 = re.search(r'\\d+',busca.group(0))\n",
    "            return busca2.group(0)"
   ]
  },
  {
   "cell_type": "code",
   "execution_count": 12,
   "metadata": {},
   "outputs": [],
   "source": [
    "#Nota final por laboratorio\n",
    "def nota_lab(arquivo):\n",
    "    qntd = 0\n",
    "    for linha in arquivo.split(\"\\n\"):\n",
    "        busca = re.search(r'final score  \\(0-10\\): \\d+\\.\\d+',linha)\n",
    "        if(busca):\n",
    "            busca2 = re.search(r'\\d+\\.\\d+',busca.group(0))\n",
    "            return busca2.group(0)"
   ]
  },
  {
   "cell_type": "code",
   "execution_count": 13,
   "metadata": {},
   "outputs": [],
   "source": [
    "#Quantidade de linhas de um codigo\n",
    "def qntd_linhas(arquivo):\n",
    "    qntd = 0\n",
    "    for linha in arquivo.split(\"\\n\"):\n",
    "        busca = re.search(r'\\w*',linha)\n",
    "        if(busca): qntd += 1\n",
    "    return qntd"
   ]
  },
  {
   "cell_type": "code",
   "execution_count": 14,
   "metadata": {},
   "outputs": [],
   "source": [
    "#Quantidade de linhas de um codigo sem comentarios etc\n",
    "def qntd_linhas_filtrado(arquivo):\n",
    "    qntd = 0\n",
    "    for linha in arquivo.split(\"\\n\"):\n",
    "        busca = re.search(r'\\S',linha)\n",
    "        if(busca): \n",
    "            busca2 = re.search(r'^(?!#).*',busca.group(0))\n",
    "            if(busca2): qntd += 1\n",
    "\n",
    "    return qntd"
   ]
  },
  {
   "cell_type": "code",
   "execution_count": 15,
   "metadata": {},
   "outputs": [
    {
     "name": "stdout",
     "output_type": "stream",
     "text": [
      "Empty DataFrame\n",
      "Columns: [Aluno, Lab, Exercicio, Duracao, Qntd_Linhas, Qntd_Linhas_Filtrado, Testes, Submissoes, N_Dias, PP_Paste, PP_Delete, Linhas_Log, Nota]\n",
      "Index: []\n"
     ]
    }
   ],
   "source": [
    "#Definindo o DataFrame\n",
    "colunas = ['Aluno','Lab','Exercicio','Duracao','Qntd_Linhas','Qntd_Linhas_Filtrado','Testes','Submissoes','N_Dias','PP_Paste','PP_Delete','Linhas_Log','Nota']\n",
    "df = pd.DataFrame(columns = colunas)\n",
    "print(df)\n",
    "df = df[0:0]"
   ]
  },
  {
   "cell_type": "code",
   "execution_count": 16,
   "metadata": {},
   "outputs": [
    {
     "ename": "FileNotFoundError",
     "evalue": "[Errno 2] No such file or directory: 'Dataset/2018-1/180/users/1168/scores'",
     "output_type": "error",
     "traceback": [
      "\u001b[0;31m---------------------------------------------------------------------------\u001b[0m",
      "\u001b[0;31mFileNotFoundError\u001b[0m                         Traceback (most recent call last)",
      "\u001b[0;32m<ipython-input-16-36d2d980667b>\u001b[0m in \u001b[0;36m<module>\u001b[0;34m()\u001b[0m\n\u001b[1;32m     59\u001b[0m             \u001b[0;31m#Coletando atributos da pasta score\u001b[0m\u001b[0;34m\u001b[0m\u001b[0;34m\u001b[0m\u001b[0m\n\u001b[1;32m     60\u001b[0m             \u001b[0mpastaScores\u001b[0m \u001b[0;34m=\u001b[0m \u001b[0mpastaAluno\u001b[0m \u001b[0;34m+\u001b[0m \u001b[0;34m'/scores'\u001b[0m\u001b[0;34m\u001b[0m\u001b[0m\n\u001b[0;32m---> 61\u001b[0;31m             \u001b[0;32mfor\u001b[0m \u001b[0mfile\u001b[0m \u001b[0;32min\u001b[0m \u001b[0mos\u001b[0m\u001b[0;34m.\u001b[0m\u001b[0mlistdir\u001b[0m\u001b[0;34m(\u001b[0m\u001b[0mpastaScores\u001b[0m\u001b[0;34m)\u001b[0m\u001b[0;34m:\u001b[0m\u001b[0;34m\u001b[0m\u001b[0m\n\u001b[0m\u001b[1;32m     62\u001b[0m                 \u001b[0mbuscaL\u001b[0m \u001b[0;34m=\u001b[0m \u001b[0mre\u001b[0m\u001b[0;34m.\u001b[0m\u001b[0mfindall\u001b[0m\u001b[0;34m(\u001b[0m\u001b[0;34mr'\\d+'\u001b[0m\u001b[0;34m,\u001b[0m\u001b[0mfile\u001b[0m\u001b[0;34m)\u001b[0m\u001b[0;34m\u001b[0m\u001b[0m\n\u001b[1;32m     63\u001b[0m                 \u001b[0;32mif\u001b[0m\u001b[0;34m(\u001b[0m\u001b[0mlen\u001b[0m\u001b[0;34m(\u001b[0m\u001b[0mbuscaL\u001b[0m\u001b[0;34m)\u001b[0m \u001b[0;34m>\u001b[0m \u001b[0;36m0\u001b[0m\u001b[0;34m)\u001b[0m\u001b[0;34m:\u001b[0m\u001b[0;34m\u001b[0m\u001b[0m\n",
      "\u001b[0;31mFileNotFoundError\u001b[0m: [Errno 2] No such file or directory: 'Dataset/2018-1/180/users/1168/scores'"
     ]
    }
   ],
   "source": [
    "for folder in os.listdir(path):\n",
    "    if not folder.startswith('.'):\n",
    "        \n",
    "        directory = os.path.join(path,folder)+'/'\n",
    "        turma = folder\n",
    "        atividades = directory + 'assessments'\n",
    "        pastaAlunos = directory + 'users'\n",
    "        for alunoUnidade in os.listdir(pastaAlunos):\n",
    "            aluno = alunoUnidade\n",
    "            pastaAluno = pastaAlunos + '/'+ aluno\n",
    "            pastaLogs = pastaAluno + '/codemirror'\n",
    "            #Trabalhando com o arquivo do logs de interacao\n",
    "            for file in os.listdir(pastaLogs):\n",
    "                buscaL = re.findall(r'\\d+',file)\n",
    "                if(len(buscaL) > 0):\n",
    "                    laboratorio = buscaL[0]\n",
    "                    exercicio = buscaL[1]\n",
    "                file = os.path.join(pastaLogs,file)\n",
    "                arquivo = open(file,'r',encoding='ISO-8859-1')\n",
    "                data = arquivo.read()\n",
    "                dataSplitado = data.split(\"\\n\")\n",
    "                #-/-\n",
    "                #parte para coleta de horario\n",
    "                vetHorarios, date_begin, date_end, hour_begin, hour_end = coletaDatas(dataSplitado)\n",
    "                dictHorarios[str(exercicio)] = vetHorarios\n",
    "\n",
    "                if(hour_begin != -1):\n",
    "                    #calcula o tempo emepnhado\n",
    "                    exr_duration = tempoEmpenhado(date_begin, date_end, hour_begin, hour_end)\n",
    "                #Coleta numero de acessos\n",
    "                n_acessos = n_acessosColetor(dataSplitado)\n",
    "                if(n_acessos == 0): n_acessos = 1\n",
    "                qt_linhas, pp_paste, pp_delete = qntd_linhas_log(data)\n",
    "                df = df.append({'Aluno': aluno,'Lab' : laboratorio,'Exercicio' : exercicio,'Duracao':exr_duration\n",
    "                                ,'Qntd_Linhas':0,'Qntd_Linhas_Filtrado':0,'Testes':0,'Submissoes':0,'N_Dias':n_acessos,\n",
    "                                'PP_Paste':pp_paste,'PP_Delete':pp_delete,'Linhas_Log':qt_linhas,'Nota':0.0}, ignore_index=True)    \n",
    "\n",
    "\n",
    "            #a partir de agora eu trabalho com outro tipo de arquivo para a coleta, o de tests e submissions\n",
    "            pastaExecucoes = pastaAluno + '/executions'\n",
    "            for file in os.listdir(pastaExecucoes):\n",
    "                buscaL = re.findall(r'\\d+',file)\n",
    "                if(len(buscaL) > 0):\n",
    "                    laboratorio = buscaL[0]\n",
    "                    exercicio = buscaL[1]  \n",
    "                file = os.path.join(pastaExecucoes,file)\n",
    "                arquivo = open(file,'r',encoding='ISO-8859-1')\n",
    "                data = arquivo.read()\n",
    "                #Quantidade de submissoes por exercicio\n",
    "                attempts = attemptsColetor(data)\n",
    "\n",
    "                #Quantidade de testes por exercicio\n",
    "                tests = testColetor(data)\n",
    "                df.loc[(df['Aluno'] == aluno) & (df['Lab'] == laboratorio) & (df['Exercicio'] == exercicio)\n",
    "                       ,'Testes'] = tests\n",
    "                df.loc[(df['Aluno'] == aluno) & (df['Lab'] == laboratorio) & (df['Exercicio'] == exercicio)\n",
    "                       ,'Submissoes'] = attempts\n",
    "\n",
    "            #Coletando atributos da pasta score \n",
    "            pastaScores = pastaAluno + '/scores'\n",
    "            for file in os.listdir(pastaScores):\n",
    "                buscaL = re.findall(r'\\d+',file)\n",
    "                if(len(buscaL) > 0):\n",
    "                    laboratorio = buscaL[0]  \n",
    "                file = os.path.join(pastaScores,file)\n",
    "                arquivo = open(file,'r',encoding='ISO-8859-1')\n",
    "                data = arquivo.read()\n",
    "                #Quantidade de exercicios do laboratorio\n",
    "                qntd_exercicios = exercicios_no_lab(data)\n",
    "                #Quantidade de exercicios do laboratorio respondidos corretamente\n",
    "                qntd_exer_corretos = exer_certos_no_lab(data)\n",
    "                #Nota do lab\n",
    "                nota_do_lab = nota_lab((data))\n",
    "                if(nota_do_lab == None): nota_do_lab = 0\n",
    "                df.loc[(df['Aluno'] == aluno) & (df['Lab'] == laboratorio),'Nota'] = float(nota_do_lab)\n",
    "\n",
    "            #Coletando atributos da pasta codes\n",
    "            pastaCodigos = pastaAluno + '/codes'\n",
    "            for file in os.listdir(pastaCodigos):\n",
    "                buscaL = re.findall(r'\\d+',file)\n",
    "                if(len(buscaL) > 0):\n",
    "                    laboratorio = buscaL[0]\n",
    "                    exercicio = buscaL[1]  \n",
    "                file = os.path.join(pastaCodigos,file)\n",
    "                arquivo = open(file,'r',encoding='ISO-8859-1')\n",
    "                data = arquivo.read()\n",
    "                #Quantidade de linhas de um codigo\n",
    "                linhas_codigo = qntd_linhas(data)\n",
    "                #Quantidade de linhas de um codigo sem comentarios, importacoes\n",
    "                linhas_codigo_filtrado = qntd_linhas_filtrado(data)\n",
    "                df.loc[(df['Aluno'] == aluno) & (df['Lab'] == laboratorio) & (df['Exercicio'] == exercicio)\n",
    "                       ,'Qntd_Linhas'] = linhas_codigo\n",
    "                df.loc[(df['Aluno'] == aluno) & (df['Lab'] == laboratorio) & (df['Exercicio'] == exercicio)\n",
    "                       ,'Qntd_Linhas_Filtrado'] = linhas_codigo_filtrado\n",
    "            \n",
    "            \n"
   ]
  },
  {
   "cell_type": "code",
   "execution_count": null,
   "metadata": {},
   "outputs": [],
   "source": []
  }
 ],
 "metadata": {
  "kernelspec": {
   "display_name": "Python 3",
   "language": "python",
   "name": "python3"
  },
  "language_info": {
   "codemirror_mode": {
    "name": "ipython",
    "version": 3
   },
   "file_extension": ".py",
   "mimetype": "text/x-python",
   "name": "python",
   "nbconvert_exporter": "python",
   "pygments_lexer": "ipython3",
   "version": "3.5.2"
  }
 },
 "nbformat": 4,
 "nbformat_minor": 2
}
