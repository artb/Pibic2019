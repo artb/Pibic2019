{
 "cells": [
  {
   "cell_type": "markdown",
   "metadata": {},
   "source": [
    "Artigos pra ler: Student behaviour in unsuporvised online quizzzes : a closer look"
   ]
  },
  {
   "cell_type": "raw",
   "metadata": {},
   "source": [
    "Coletor de atributos em cima dos logs do CodeBench"
   ]
  },
  {
   "cell_type": "raw",
   "metadata": {},
   "source": [
    "Atributos coletados:\n",
    "DONE •attempts (M1): n de tentativas de submissao, independente se o codigo esta certo ou errado (AHADI; VIHAVAINEN; LISTER, 2016);\n",
    "• lloc (M4): media de numero de linhas logicas dos codigos submetidos, sem contabilizar importação de bibliotecas, comentários e linhas em branco (OTERO et al., 2016);\n",
    "• loc(M5):media de numero de linhas dos codigos submetidos(OTEROetal.,2016);\n",
    "• $$ system_access (M7): numero de acessos (logins) que cada aluno faz dentro do prazo de entrega de uma dada lista;\n",
    "• exam_grade_codebench (M8): nota na avaliacao realizada em cada sessao. (So vai ser usado nessa tabela)\n",
    "• delete_average (M10): media de caracteres apagados atraves do uso das teclas delete e backspace em cada lista de exercicios;\n",
    "• average_log_rows (M11): media do numero de linhas do log gerado por cada questao de uma dada lista de exercicios (CASTRO-WUNSCH; AHADI; PETERSEN, 2017; AHADI et al., 2015)4;\n",
    "• submission_per_exercise (M12): media de submissoes por exercicios, independente se o codigo estava certo ou errado.\n",
    "• sucess_average (M13): razao entre o numero de questoes corretamente avaliadas pelo numero de tentativas de submissao (AUVINEN, 2015; ESTEY; COADY, 2016);\n",
    "• test_average (M14): numero total de testes feitos durante as tentativas de solucionar todas as questões de uma lista dividido pelo numero total de questões da lista (ESTEY; COADY, 2016);\n",
    "• exercises_list_grade (M15): nota do aluno em cada lista de exercícios (AHADI; VIHAVAINEN; LISTER, 2016; CASTRO-WUNSCH; AHADI; PETERSEN, 2017; ESTEY; COADY, 2016);\n",
    "• exercises_list_grade_check_plagiarism (M16): nota do aluno em cada lista de exercícios, considerando apenas questões resolvidas que geraram no mínimo 50 linhas no log;\n",
    "• copy_paste_proportion (M17): proporção entre número de caracteres colados (com CTRL+V) e número caracteres digitados (MUNSON; ZITOVSKY, 2018);\n",
    "• sintaxe_error (M18): proporção entre o número total de submissões e o número total de submissões com erros de sintaxe (JADUD, 2006b; ESTEY; COADY, 2016; MUNSON; ZITOVSKY, 2018);\n",
    "IDE_usage (M19): tempo total (em minutos) que o aluno passa dentro do IDE tentando solucionar as questões de uma dada lista de exercícios, ou seja, digitando algo (AUVINEN, 2015; MUNSON; ZITOVSKY, 2018);\n",
    "• $$keystroke_latency (M20): velocidade de digitação de um dado aluno durante suas tentativas de solucionar as questões de uma dada lista de exercícios (LEINONEN et al., 2016);\n",
    "DONE • duration_of_exercices: diferença entre o tempo inicial e o tempo final\n",
    "• qnt_errors: quantidade de erros na submissao/execucao\n",
    "• had_syntax_error: binario se houve(1) ou nao(0) erro de sintaxe\n",
    "• qnt_blur: quantidade de vezes q houve um clique fora da IDE -posso fazer uma media de interacoes com mouse-\n",
    "• time_medio_ blur: tempo total da diferenca entre um blur e um focus dividido pelo tempo total do exercicio\n",
    "• average_interation_time: media de tempo de interacao usuario-sistema\n",
    "• (talvez) turno_realizado: turno do dia em que o exercicio foi terminado\n",
    "• $$hours_remaning_to_deadline: diferenca de horas desde o primeiro acesso ate o deadline do exercicio\n",
    "• n_acessos: quantidade de acessos em dias diferentes\n",
    "• media de exercicios por lab resolvidos (avg_participation) - somente a razao eh suficiente pra pesar o desempenho do aluno? - \n",
    "• (talvez) acumulado das razoes de exercicios\n",
    "• pesar os tipos erro (sintaxe e logica) e se o aluno colou associar a ele um valor menor"
   ]
  },
  {
   "cell_type": "code",
   "execution_count": 1,
   "metadata": {
    "collapsed": true
   },
   "outputs": [],
   "source": [
    "import re\n",
    "import os\n",
    "import math\n",
    "import pandas as pd\n",
    "import datetime"
   ]
  },
  {
   "cell_type": "code",
   "execution_count": 2,
   "metadata": {
    "collapsed": true
   },
   "outputs": [],
   "source": [
    "path = 'database/users'"
   ]
  },
  {
   "cell_type": "markdown",
   "metadata": {},
   "source": [
    "cat database/2432/399_1326.log"
   ]
  },
  {
   "cell_type": "code",
   "execution_count": 3,
   "metadata": {},
   "outputs": [
    {
     "name": "stdout",
     "output_type": "stream",
     "text": [
      "Empty DataFrame\n",
      "Columns: [oi, sa]\n",
      "Index: []\n"
     ]
    }
   ],
   "source": [
    "dictHorarios = {}\n",
    "colunasTabela = {'Aluno':['00'],\n",
    "    'Laboratorio':['00'],\n",
    "    'Exercicio':['00'],\n",
    "    'Horario inicial':['00'],\n",
    "    'Horario final':['00'],\n",
    "    'Tempo decorrido':['00']\n",
    "}\n",
    "\n",
    "df2 = pd.DataFrame(columns=['oi','sa'])\n",
    "print(df2)\n",
    "\n",
    "\n"
   ]
  },
  {
   "cell_type": "code",
   "execution_count": 4,
   "metadata": {
    "collapsed": true
   },
   "outputs": [],
   "source": [
    "#Coleta a data inicial e final de cada exercicio junto com o seu horario\n",
    "def coletaDatas(arquivo):\n",
    "    horarios = []\n",
    "    hBegin = -1\n",
    "    hEnd = -1\n",
    "    dataIni = -1\n",
    "    dataFim = -1\n",
    "    horaIni = -1\n",
    "    horaFim = -1\n",
    "    for linha in arquivo:\n",
    "        busca = re.findall(r'\\d{4}-\\d{1,2}-\\d{1,2} \\d+:\\d+:\\d+\\.\\d+',linha)\n",
    "        if(len(busca) > 0):\n",
    "            horaIni = busca[0]\n",
    "            horarios.append(horaIni)\n",
    "    if(len(horarios)>0):\n",
    "        hBegin = horarios[0]\n",
    "        hEnd = horarios[-1]\n",
    "    if(hBegin != -1):\n",
    "        busquinha = re.findall(r'\\d{4}-\\d{1,2}-\\d{1,2}',hBegin)\n",
    "        if(len(busquinha) > 0):\n",
    "            dataIni = busquinha[0]\n",
    "        busquinha = re.findall(r'\\d+:\\d+:\\d+\\.\\d+',hBegin)\n",
    "        if(len(busquinha) > 0):\n",
    "            horaIni = busquinha[0]\n",
    "    if(hEnd != -1):\n",
    "            busquinha = re.findall(r'\\d{4}-\\d{1,2}-\\d{1,2}',hEnd)\n",
    "            if(len(busquinha)>0):\n",
    "                    dataFim = busquinha[0]\n",
    "            busquinha = re.findall(r'\\d+:\\d+:\\d+\\.\\d+',hEnd)\n",
    "            if(len(busquinha) > 0):\n",
    "                horaFim = busquinha[0]\n",
    "    '''            \n",
    "    print(\"data raw:\")\n",
    "    print(hBegin,hEnd)\n",
    "    print(dataIni, dataFim)\n",
    "    print(\"Datas\")\n",
    "    print(horaIni,horaFim)\n",
    "    print(\"EOF\")\n",
    "    '''\n",
    "    return horarios, dataIni, dataFim, horaIni, horaFim"
   ]
  },
  {
   "cell_type": "code",
   "execution_count": 5,
   "metadata": {
    "collapsed": true
   },
   "outputs": [],
   "source": [
    "#Calcula a quantidade de linhas de um arquivo de log\n",
    "def qntd_linhas_log(arquivo):\n",
    "    contador = 0\n",
    "    paste = 0\n",
    "    delete = 0\n",
    "    for linha in arquivo.split(\"\\n\"):\n",
    "        contador += 1\n",
    "        busca = re.search(r'paste',linha)\n",
    "        busca2 = re.search(r'delete',linha)\n",
    "        busca3 = re.search(r'Backspace',linha)\n",
    "        if(busca): paste += 1\n",
    "        if(busca2): delete += 1\n",
    "        if(busca3): delete += 1\n",
    "    \n",
    "    p1 = paste/contador\n",
    "    p2 = delete/contador\n",
    "    return contador,round(p1,2),round(p2,2)\n",
    "    "
   ]
  },
  {
   "cell_type": "code",
   "execution_count": 6,
   "metadata": {
    "collapsed": true
   },
   "outputs": [],
   "source": [
    "#Calcula o tempo empenhado no exercicio\n",
    "def tempoEmpenhado(data_ini, data_fim, hora_ini, hora_fim):\n",
    "    s = '' + str(data_ini) + ' ' + str(hora_ini) \n",
    "    r = '' + str(data_fim) + ' ' +str(hora_fim)\n",
    "    date1 = int(datetime.datetime.strptime(s, '%Y-%m-%d %H:%M:%S.%f').strftime(\"%s\"))\n",
    "    date2 = int(datetime.datetime.strptime(r, '%Y-%m-%d %H:%M:%S.%f').strftime(\"%s\"))\n",
    "    difdate = date2 - date1\n",
    "    return difdate"
   ]
  },
  {
   "cell_type": "code",
   "execution_count": 7,
   "metadata": {
    "collapsed": true
   },
   "outputs": [],
   "source": [
    "#Calcula a quantidade de dias em que o mesmo exercicio foi resolvido\n",
    "def n_acessosColetor(arquivo):\n",
    "    primeiroAcesso = 1\n",
    "    difdate = 0\n",
    "    for linha in arquivo:\n",
    "        busca = re.search(r'\\d{4}-\\d{1,2}-\\d{1,2}',linha)\n",
    "        if(busca):\n",
    "            if(primeiroAcesso):\n",
    "                dataIni = busca.group(0)\n",
    "                primeiroAcesso = 0\n",
    "            dataAtual = busca.group(0)\n",
    "            #date1 = int(datetime.datetime.strptime(dataIni, '%Y-%m-%d').strftime(\"%d\"))\n",
    "            #date2 = int(datetime.datetime.strptime(dataAtual, '%Y-%m-%d').strftime(\"%d\"))\n",
    "            #difdate = date2 - date1\n",
    "            start_date = datetime.datetime.strptime(dataIni, '%Y-%m-%d')\n",
    "            end_date = datetime.datetime.strptime(dataAtual, '%Y-%m-%d')\n",
    "            difdate = abs(end_date-start_date)\n",
    "            difdate = difdate.days\n",
    "            \n",
    "\n",
    "            \n",
    "    \n",
    "    return difdate"
   ]
  },
  {
   "cell_type": "markdown",
   "metadata": {},
   "source": [
    "Funcoes na pasta Executions"
   ]
  },
  {
   "cell_type": "code",
   "execution_count": 8,
   "metadata": {
    "collapsed": true
   },
   "outputs": [],
   "source": [
    "#Ve a quantidade de submissoes em um exercicio\n",
    "def attemptsColetor(arquivo):\n",
    "    contador = 0\n",
    "    for linha in arquivo.split(\"\\n\"):\n",
    "        busca = re.search(r'SUBMITION',linha)\n",
    "        if(busca): contador += 1\n",
    "    return contador"
   ]
  },
  {
   "cell_type": "code",
   "execution_count": 9,
   "metadata": {
    "collapsed": true
   },
   "outputs": [],
   "source": [
    "#Ve a quantidade de testes em um exercicio\n",
    "def testColetor(arquivo):\n",
    "    contador = 0\n",
    "    for linha in arquivo.split(\"\\n\"):\n",
    "        busca = re.search(r'TEST',linha)\n",
    "        if(busca): contador += 1\n",
    "    return contador"
   ]
  },
  {
   "cell_type": "markdown",
   "metadata": {},
   "source": [
    "Funcoes na pasta Scores"
   ]
  },
  {
   "cell_type": "code",
   "execution_count": 10,
   "metadata": {
    "collapsed": true
   },
   "outputs": [],
   "source": [
    "#Ve a quantidade de exercicios em um laboratorio\n",
    "def exercicios_no_lab(arquivo):\n",
    "    qntd = 0\n",
    "    for linha in arquivo.split(\"\\n\"):\n",
    "        busca = re.search(r'number of exercises: \\d+',linha)\n",
    "        if(busca): \n",
    "            busca2 = re.search(r'\\d+',busca.group(0))\n",
    "            return busca2.group(0)"
   ]
  },
  {
   "cell_type": "code",
   "execution_count": 11,
   "metadata": {
    "collapsed": true
   },
   "outputs": [],
   "source": [
    "#Ve a quantidade de exercicios respondidos corretamente em um laboratorio\n",
    "def exer_certos_no_lab(arquivo):\n",
    "    qntd = 0\n",
    "    for linha in arquivo.split(\"\\n\"):\n",
    "        busca = re.search(r'correct: \\d+',linha)\n",
    "        if(busca): \n",
    "            busca2 = re.search(r'\\d+',busca.group(0))\n",
    "            return busca2.group(0)"
   ]
  },
  {
   "cell_type": "code",
   "execution_count": 12,
   "metadata": {
    "collapsed": true
   },
   "outputs": [],
   "source": [
    "#Nota final por laboratorio\n",
    "def nota_lab(arquivo):\n",
    "    qntd = 0\n",
    "    for linha in arquivo.split(\"\\n\"):\n",
    "        busca = re.search(r'final score  \\(0-10\\): \\d+\\.\\d+',linha)\n",
    "        if(busca):\n",
    "            busca2 = re.search(r'\\d+\\.\\d+',busca.group(0))\n",
    "            return busca2.group(0)"
   ]
  },
  {
   "cell_type": "code",
   "execution_count": 13,
   "metadata": {
    "collapsed": true
   },
   "outputs": [],
   "source": [
    "#Quantidade de linhas de um codigo\n",
    "def qntd_linhas(arquivo):\n",
    "    qntd = 0\n",
    "    for linha in arquivo.split(\"\\n\"):\n",
    "        busca = re.search(r'\\w*',linha)\n",
    "        if(busca): qntd += 1\n",
    "    return qntd"
   ]
  },
  {
   "cell_type": "code",
   "execution_count": 14,
   "metadata": {
    "collapsed": true
   },
   "outputs": [],
   "source": [
    "#Quantidade de linhas de um codigo sem comentarios etc\n",
    "def qntd_linhas_filtrado(arquivo):\n",
    "    qntd = 0\n",
    "    for linha in arquivo.split(\"\\n\"):\n",
    "        busca = re.search(r'\\S',linha)\n",
    "        if(busca): \n",
    "            busca2 = re.search(r'^(?!#).*',busca.group(0))\n",
    "            if(busca2): qntd += 1\n",
    "\n",
    "    return qntd"
   ]
  },
  {
   "cell_type": "raw",
   "metadata": {},
   "source": [
    "Main Function"
   ]
  },
  {
   "cell_type": "code",
   "execution_count": 63,
   "metadata": {
    "scrolled": true
   },
   "outputs": [
    {
     "name": "stdout",
     "output_type": "stream",
     "text": [
      "Empty DataFrame\n",
      "Columns: [Aluno, Lab, Exercicio, Duracao, Qntd_Linhas, Qntd_Linhas_Filtrado, Testes, Submissoes, N_Dias, PP_Paste, PP_Delete, Linhas_Log, Nota]\n",
      "Index: []\n"
     ]
    }
   ],
   "source": [
    "#Definindo o DataFrame\n",
    "colunas = ['Aluno','Lab','Exercicio','Duracao','Qntd_Linhas','Qntd_Linhas_Filtrado','Testes','Submissoes','N_Dias','PP_Paste','PP_Delete','Linhas_Log','Nota']\n",
    "df = pd.DataFrame(columns = colunas)\n",
    "print(df)\n",
    "df = df[0:0]"
   ]
  },
  {
   "cell_type": "code",
   "execution_count": 64,
   "metadata": {
    "collapsed": true
   },
   "outputs": [],
   "source": [
    "#MAIN\n",
    "for folder in os.listdir(path):\n",
    "    if not folder.startswith('.'):\n",
    "        \n",
    "        directory = os.path.join(path,folder)+'/'\n",
    "        aluno = folder\n",
    "        pastaLogs = directory + '/codemirror'\n",
    "        \n",
    "        #Trabalhando com o arquivo do logs de interacao\n",
    "        for file in os.listdir(pastaLogs):\n",
    "            buscaL = re.findall(r'\\d+',file)\n",
    "            if(len(buscaL) > 0):\n",
    "                laboratorio = buscaL[0]\n",
    "                exercicio = buscaL[1]\n",
    "            file = os.path.join(pastaLogs,file)\n",
    "            arquivo = open(file,'r',encoding='ISO-8859-1')\n",
    "            data = arquivo.read()\n",
    "            dataSplitado = data.split(\"\\n\")\n",
    "            #-/-\n",
    "            #parte para coleta de horario\n",
    "            vetHorarios, date_begin, date_end, hour_begin, hour_end = coletaDatas(dataSplitado)\n",
    "            dictHorarios[str(exercicio)] = vetHorarios\n",
    "            \n",
    "            if(hour_begin != -1):\n",
    "                #calcula o tempo emepnhado\n",
    "                exr_duration = tempoEmpenhado(date_begin, date_end, hour_begin, hour_end)\n",
    "            #Coleta numero de acessos\n",
    "            n_acessos = n_acessosColetor(dataSplitado)\n",
    "            if(n_acessos == 0): n_acessos = 1\n",
    "            qt_linhas, pp_paste, pp_delete = qntd_linhas_log(data)\n",
    "            df = df.append({'Aluno': aluno,'Lab' : laboratorio,'Exercicio' : exercicio,'Duracao':exr_duration\n",
    "                            ,'Qntd_Linhas':0,'Qntd_Linhas_Filtrado':0,'Testes':0,'Submissoes':0,'N_Dias':n_acessos,\n",
    "                            'PP_Paste':pp_paste,'PP_Delete':pp_delete,'Linhas_Log':qt_linhas,'Nota':0.0}, ignore_index=True)    \n",
    "\n",
    "            \n",
    "        #a partir de agora eu trabalho com outro tipo de arquivo para a coleta, o de tests e submissions\n",
    "        pastaExecucoes = directory + '/executions'\n",
    "        for file in os.listdir(pastaExecucoes):\n",
    "            buscaL = re.findall(r'\\d+',file)\n",
    "            if(len(buscaL) > 0):\n",
    "                laboratorio = buscaL[0]\n",
    "                exercicio = buscaL[1]  \n",
    "            file = os.path.join(pastaExecucoes,file)\n",
    "            arquivo = open(file,'r',encoding='ISO-8859-1')\n",
    "            data = arquivo.read()\n",
    "            #Quantidade de submissoes por exercicio\n",
    "            attempts = attemptsColetor(data)\n",
    "            \n",
    "            #Quantidade de testes por exercicio\n",
    "            tests = testColetor(data)\n",
    "            df.loc[(df['Aluno'] == aluno) & (df['Lab'] == laboratorio) & (df['Exercicio'] == exercicio)\n",
    "                   ,'Testes'] = tests\n",
    "            df.loc[(df['Aluno'] == aluno) & (df['Lab'] == laboratorio) & (df['Exercicio'] == exercicio)\n",
    "                   ,'Submissoes'] = attempts\n",
    "            \n",
    "        #Coletando atributos da pasta score \n",
    "        pastaScores = directory + '/scores'\n",
    "        for file in os.listdir(pastaScores):\n",
    "            buscaL = re.findall(r'\\d+',file)\n",
    "            if(len(buscaL) > 0):\n",
    "                laboratorio = buscaL[0]  \n",
    "            file = os.path.join(pastaScores,file)\n",
    "            arquivo = open(file,'r',encoding='ISO-8859-1')\n",
    "            data = arquivo.read()\n",
    "            #Quantidade de exercicios do laboratorio\n",
    "            qntd_exercicios = exercicios_no_lab(data)\n",
    "            #Quantidade de exercicios do laboratorio respondidos corretamente\n",
    "            qntd_exer_corretos = exer_certos_no_lab(data)\n",
    "            #Nota do lab\n",
    "            nota_do_lab = nota_lab((data))\n",
    "            if(nota_do_lab == None): nota_do_lab = 0\n",
    "            df.loc[(df['Aluno'] == aluno) & (df['Lab'] == laboratorio),'Nota'] = float(nota_do_lab)\n",
    "            \n",
    "        #Coletando atributos da pasta codes\n",
    "        pastaCodigos = directory + '/codes'\n",
    "        for file in os.listdir(pastaCodigos):\n",
    "            buscaL = re.findall(r'\\d+',file)\n",
    "            if(len(buscaL) > 0):\n",
    "                laboratorio = buscaL[0]\n",
    "                exercicio = buscaL[1]  \n",
    "            file = os.path.join(pastaCodigos,file)\n",
    "            arquivo = open(file,'r',encoding='ISO-8859-1')\n",
    "            data = arquivo.read()\n",
    "            #Quantidade de linhas de um codigo\n",
    "            linhas_codigo = qntd_linhas(data)\n",
    "            #Quantidade de linhas de um codigo sem comentarios, importacoes\n",
    "            linhas_codigo_filtrado = qntd_linhas_filtrado(data)\n",
    "            df.loc[(df['Aluno'] == aluno) & (df['Lab'] == laboratorio) & (df['Exercicio'] == exercicio)\n",
    "                   ,'Qntd_Linhas'] = linhas_codigo\n",
    "            df.loc[(df['Aluno'] == aluno) & (df['Lab'] == laboratorio) & (df['Exercicio'] == exercicio)\n",
    "                   ,'Qntd_Linhas_Filtrado'] = linhas_codigo_filtrado\n",
    "            \n",
    "            \n"
   ]
  },
  {
   "cell_type": "code",
   "execution_count": 65,
   "metadata": {
    "scrolled": true
   },
   "outputs": [
    {
     "name": "stdout",
     "output_type": "stream",
     "text": [
      "aluno: 2779\n",
      "Dia inicio: 2017-7-10 Dia fim: 2017-7-10 Hora inicio: 02:11:04.687 Hora fim: 02:25:57.321\n",
      "Numero de dias empenhados durante exercicio: 1\n",
      "Tempo empenhado na atividade em segundos: 893\n",
      "Numero do lab: 536 exercicio: 1101 submissoes: 11 testes: 35\n",
      "Total de exercicios: 9 Total respondido: 2 nota: 2.22222\n",
      "Quantidade de linhas de codigo: 43 Quantidade de linhas de codigo sem comentarios/importacoes: 34\n"
     ]
    }
   ],
   "source": [
    "print(\"aluno:\",aluno)\n",
    "print(\"Dia inicio:\",date_begin, \"Dia fim:\",date_end, \"Hora inicio:\",hour_begin,\"Hora fim:\", hour_end)\n",
    "print(\"Numero de dias empenhados durante exercicio:\",n_acessos)\n",
    "print(\"Tempo empenhado na atividade em segundos:\",exr_duration)\n",
    "print(\"Numero do lab:\",laboratorio,\"exercicio:\",exercicio,\"submissoes:\",attempts,\"testes:\",tests)\n",
    "print(\"Total de exercicios:\",qntd_exercicios,\"Total respondido:\",qntd_exer_corretos,\"nota:\",nota_do_lab)\n",
    "print(\"Quantidade de linhas de codigo:\",linhas_codigo, \"Quantidade de linhas de codigo sem comentarios/importacoes:\",linhas_codigo_filtrado)"
   ]
  },
  {
   "cell_type": "code",
   "execution_count": 66,
   "metadata": {
    "collapsed": true
   },
   "outputs": [],
   "source": [
    "df['Duracao'] = df['Duracao'].astype(int)\n",
    "df['Qntd_Linhas'] = df['Qntd_Linhas'].astype(int)\n",
    "df['Qntd_Linhas_Filtrado'] = df['Qntd_Linhas_Filtrado'].astype(int)\n",
    "df['Testes'] = df['Testes'].astype(int)\n",
    "df['Submissoes'] = df['Submissoes'].astype(int)\n",
    "df['N_Dias'] = df['N_Dias'].astype(int)\n",
    "df['PP_Paste'] = df['PP_Paste'].astype(float)\n",
    "df['PP_Delete'] = df['PP_Delete'].astype(float)\n",
    "df['Linhas_Log'] = df['Linhas_Log'].astype(int)\n",
    "df['Nota'] = df['Nota'].astype(float) "
   ]
  },
  {
   "cell_type": "code",
   "execution_count": 67,
   "metadata": {
    "collapsed": true
   },
   "outputs": [],
   "source": [
    "#Porcentagem de exercicios corretos/ total execicios por lab\n",
    "\n"
   ]
  },
  {
   "cell_type": "code",
   "execution_count": 68,
   "metadata": {
    "collapsed": true
   },
   "outputs": [],
   "source": [
    "agrupado =  df.groupby(['Aluno','Lab']).agg({'Duracao': 'sum', 'Qntd_Linhas': 'sum', 'Qntd_Linhas_Filtrado': 'sum'\n",
    "                                             , 'Testes': 'sum', 'Submissoes': 'sum', 'PP_Paste': 'sum'\n",
    "                                             , 'PP_Delete': 'sum', 'Linhas_Log': 'sum', 'Nota':'mean'})"
   ]
  },
  {
   "cell_type": "markdown",
   "metadata": {},
   "source": [
    "print(agrupado)"
   ]
  },
  {
   "cell_type": "code",
   "execution_count": 69,
   "metadata": {
    "collapsed": true
   },
   "outputs": [],
   "source": [
    "agrupadoMedia = df.groupby(['Aluno','Lab']).agg({'Duracao': 'mean', 'Qntd_Linhas': 'mean', 'Qntd_Linhas_Filtrado': 'mean'\n",
    "                                             , 'Testes': 'mean', 'Submissoes': 'mean', 'PP_Paste': 'mean'\n",
    "                                             , 'PP_Delete': 'mean', 'Linhas_Log': 'mean', 'Nota':'mean'})"
   ]
  },
  {
   "cell_type": "markdown",
   "metadata": {},
   "source": [
    "print(agrupadoMedia)"
   ]
  },
  {
   "cell_type": "code",
   "execution_count": 70,
   "metadata": {
    "collapsed": true
   },
   "outputs": [],
   "source": [
    "df.to_csv('dadosBrutos.csv', encoding='utf-8', index=False)\n",
    "agrupado.to_csv('dadosPorLab.csv', encoding='utf-8', index=False)\n",
    "agrupadoMedia.to_csv('dadosPorLabMean.csv', encoding='utf-8', index=False)"
   ]
  },
  {
   "cell_type": "code",
   "execution_count": null,
   "metadata": {
    "collapsed": true
   },
   "outputs": [],
   "source": [
    "#df.loc[(df['coluna'] == 2) & (df['2'] == 4), 'coluna'] = 'novo valor'"
   ]
  }
 ],
 "metadata": {
  "kernelspec": {
   "display_name": "Python 3",
   "language": "python",
   "name": "python3"
  },
  "language_info": {
   "codemirror_mode": {
    "name": "ipython",
    "version": 3
   },
   "file_extension": ".py",
   "mimetype": "text/x-python",
   "name": "python",
   "nbconvert_exporter": "python",
   "pygments_lexer": "ipython3",
   "version": "3.6.1"
  }
 },
 "nbformat": 4,
 "nbformat_minor": 2
}
