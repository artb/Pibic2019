{
 "cells": [
  {
   "cell_type": "code",
   "execution_count": 1,
   "metadata": {},
   "outputs": [
    {
     "name": "stderr",
     "output_type": "stream",
     "text": [
      "/Users/arthurbinda/anaconda/lib/python3.6/site-packages/sklearn/ensemble/weight_boosting.py:29: DeprecationWarning: numpy.core.umath_tests is an internal NumPy module and should not be imported. It will be removed in a future NumPy release.\n",
      "  from numpy.core.umath_tests import inner1d\n"
     ]
    }
   ],
   "source": [
    "import numpy as np\n",
    "import pandas as pd\n",
    "from sklearn import svm, metrics, tree\n",
    "import matplotlib.pyplot as plt\n",
    "from sklearn.model_selection import train_test_split\n",
    "from sklearn.neighbors import KNeighborsClassifier\n",
    "from sklearn.ensemble import RandomForestClassifier\n",
    "from sklearn.tree import DecisionTreeClassifier\n",
    "from sklearn.metrics import accuracy_score\n",
    "from sklearn.svm import SVC  "
   ]
  },
  {
   "cell_type": "code",
   "execution_count": 2,
   "metadata": {
    "collapsed": true
   },
   "outputs": [],
   "source": [
    "df= pd.read_csv('dadosProvaOnly.csv')"
   ]
  },
  {
   "cell_type": "code",
   "execution_count": 3,
   "metadata": {},
   "outputs": [],
   "source": [
    "dict = {}\n",
    "for row in df['Aluno'].iteritems():\n",
    "    aluno = row[1]\n",
    "    aluno = int(aluno)\n",
    "    dict[aluno] = pd.DataFrame(df[df['Aluno']== aluno])\n"
   ]
  },
  {
   "cell_type": "code",
   "execution_count": 4,
   "metadata": {},
   "outputs": [
    {
     "data": {
      "text/html": [
       "<div>\n",
       "<style scoped>\n",
       "    .dataframe tbody tr th:only-of-type {\n",
       "        vertical-align: middle;\n",
       "    }\n",
       "\n",
       "    .dataframe tbody tr th {\n",
       "        vertical-align: top;\n",
       "    }\n",
       "\n",
       "    .dataframe thead th {\n",
       "        text-align: right;\n",
       "    }\n",
       "</style>\n",
       "<table border=\"1\" class=\"dataframe\">\n",
       "  <thead>\n",
       "    <tr style=\"text-align: right;\">\n",
       "      <th></th>\n",
       "      <th>Aluno</th>\n",
       "      <th>Lab</th>\n",
       "      <th>PP_Delete</th>\n",
       "      <th>Duracao</th>\n",
       "      <th>PP_Paste</th>\n",
       "      <th>Qntd_Linhas</th>\n",
       "      <th>Linhas_Log</th>\n",
       "      <th>Qntd_Linhas_Filtrado</th>\n",
       "      <th>Submissoes</th>\n",
       "      <th>Testes</th>\n",
       "      <th>Corretos</th>\n",
       "      <th>Incorretos</th>\n",
       "      <th>Branco</th>\n",
       "      <th>Nota</th>\n",
       "    </tr>\n",
       "  </thead>\n",
       "  <tbody>\n",
       "    <tr>\n",
       "      <th>0</th>\n",
       "      <td>1085</td>\n",
       "      <td>1031</td>\n",
       "      <td>0.5300</td>\n",
       "      <td>80.00</td>\n",
       "      <td>0.0000</td>\n",
       "      <td>25.0</td>\n",
       "      <td>19.0</td>\n",
       "      <td>9.0</td>\n",
       "      <td>0.00</td>\n",
       "      <td>1.0</td>\n",
       "      <td>0</td>\n",
       "      <td>0</td>\n",
       "      <td>12</td>\n",
       "      <td>0.000000</td>\n",
       "    </tr>\n",
       "    <tr>\n",
       "      <th>1</th>\n",
       "      <td>1085</td>\n",
       "      <td>1083</td>\n",
       "      <td>0.1700</td>\n",
       "      <td>148.00</td>\n",
       "      <td>0.0050</td>\n",
       "      <td>12.0</td>\n",
       "      <td>186.0</td>\n",
       "      <td>5.5</td>\n",
       "      <td>2.00</td>\n",
       "      <td>6.0</td>\n",
       "      <td>2</td>\n",
       "      <td>0</td>\n",
       "      <td>8</td>\n",
       "      <td>2.000000</td>\n",
       "    </tr>\n",
       "    <tr>\n",
       "      <th>2</th>\n",
       "      <td>1085</td>\n",
       "      <td>1118</td>\n",
       "      <td>0.1725</td>\n",
       "      <td>956.25</td>\n",
       "      <td>0.0025</td>\n",
       "      <td>28.0</td>\n",
       "      <td>871.0</td>\n",
       "      <td>20.0</td>\n",
       "      <td>5.75</td>\n",
       "      <td>20.5</td>\n",
       "      <td>3</td>\n",
       "      <td>1</td>\n",
       "      <td>8</td>\n",
       "      <td>2.500000</td>\n",
       "    </tr>\n",
       "    <tr>\n",
       "      <th>3</th>\n",
       "      <td>1085</td>\n",
       "      <td>1265</td>\n",
       "      <td>0.3000</td>\n",
       "      <td>1864.00</td>\n",
       "      <td>0.0000</td>\n",
       "      <td>32.0</td>\n",
       "      <td>991.0</td>\n",
       "      <td>20.0</td>\n",
       "      <td>17.00</td>\n",
       "      <td>42.0</td>\n",
       "      <td>1</td>\n",
       "      <td>0</td>\n",
       "      <td>11</td>\n",
       "      <td>0.833333</td>\n",
       "    </tr>\n",
       "  </tbody>\n",
       "</table>\n",
       "</div>"
      ],
      "text/plain": [
       "   Aluno   Lab  PP_Delete  Duracao  PP_Paste  Qntd_Linhas  Linhas_Log  \\\n",
       "0   1085  1031     0.5300    80.00    0.0000         25.0        19.0   \n",
       "1   1085  1083     0.1700   148.00    0.0050         12.0       186.0   \n",
       "2   1085  1118     0.1725   956.25    0.0025         28.0       871.0   \n",
       "3   1085  1265     0.3000  1864.00    0.0000         32.0       991.0   \n",
       "\n",
       "   Qntd_Linhas_Filtrado  Submissoes  Testes  Corretos  Incorretos  Branco  \\\n",
       "0                   9.0        0.00     1.0         0           0      12   \n",
       "1                   5.5        2.00     6.0         2           0       8   \n",
       "2                  20.0        5.75    20.5         3           1       8   \n",
       "3                  20.0       17.00    42.0         1           0      11   \n",
       "\n",
       "       Nota  \n",
       "0  0.000000  \n",
       "1  2.000000  \n",
       "2  2.500000  \n",
       "3  0.833333  "
      ]
     },
     "execution_count": 4,
     "metadata": {},
     "output_type": "execute_result"
    }
   ],
   "source": [
    "dict[1085]"
   ]
  },
  {
   "cell_type": "code",
   "execution_count": 5,
   "metadata": {
    "collapsed": true
   },
   "outputs": [],
   "source": [
    "dfAlunos = pd.DataFrame(columns = ['Alunos','Aprovacao'])"
   ]
  },
  {
   "cell_type": "code",
   "execution_count": 10,
   "metadata": {},
   "outputs": [],
   "source": [
    "for aluno, df in dict.items():\n",
    "    aprovou = df['Nota'].mean()\n",
    "    if(aprovou >= 5.0):\n",
    "        aprovado = 1\n",
    "    else:\n",
    "        aprovado = 0\n",
    "    SemNota = list(df.columns.values)\n",
    "    SemNota.remove('Nota')\n",
    "    dfAlunos = dfAlunos.append({'Alunos':df[SemNota],'Aprovacao':aprovado},ignore_index=True)"
   ]
  },
  {
   "cell_type": "code",
   "execution_count": 14,
   "metadata": {},
   "outputs": [
    {
     "data": {
      "text/plain": [
       "Alunos          Aluno   Lab  PP_Delete  Duracao  PP_Paste  ...\n",
       "Aprovacao                                                    0\n",
       "Name: 0, dtype: object"
      ]
     },
     "execution_count": 14,
     "metadata": {},
     "output_type": "execute_result"
    }
   ],
   "source": [
    "dfAlunos.iloc[0]"
   ]
  },
  {
   "cell_type": "code",
   "execution_count": null,
   "metadata": {
    "collapsed": true
   },
   "outputs": [],
   "source": []
  }
 ],
 "metadata": {
  "kernelspec": {
   "display_name": "Python 3",
   "language": "python",
   "name": "python3"
  },
  "language_info": {
   "codemirror_mode": {
    "name": "ipython",
    "version": 3
   },
   "file_extension": ".py",
   "mimetype": "text/x-python",
   "name": "python",
   "nbconvert_exporter": "python",
   "pygments_lexer": "ipython3",
   "version": "3.6.1"
  }
 },
 "nbformat": 4,
 "nbformat_minor": 2
}
